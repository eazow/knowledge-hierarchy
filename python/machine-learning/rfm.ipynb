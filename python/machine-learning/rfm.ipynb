{
 "cells": [
  {
   "cell_type": "code",
   "execution_count": 1,
   "id": "ae0b3529",
   "metadata": {},
   "outputs": [
    {
     "name": "stdout",
     "output_type": "stream",
     "text": [
      "                 数量            单价           用户码\n",
      "count  84112.000000  84112.000000  84112.000000\n",
      "mean      10.760236      3.005032  15337.732963\n",
      "std       34.018906     15.365085    392.074855\n",
      "min        1.000000      0.000000  14681.000000\n",
      "25%        2.000000      1.250000  15021.000000\n",
      "50%        5.000000      1.950000  15333.000000\n",
      "75%       12.000000      3.750000  15674.000000\n",
      "max     3114.000000   3155.950000  16019.000000\n"
     ]
    }
   ],
   "source": [
    "\"\"\"\n",
    "RFM: Recency、Frequency、Monetary\n",
    "\"\"\"\n",
    "\n",
    "import pandas as pd\n",
    "import matplotlib.pyplot as plt\n",
    "from utils import set_chinese_label\n",
    "\n",
    "set_chinese_label()\n",
    "\n",
    "\n",
    "def clean(df):\n",
    "    df = df.drop_duplicates()\n",
    "\n",
    "    df = df.loc[df[\"数量\"] > 0]\n",
    "    print(df.describe())\n",
    "    return df\n",
    "\n",
    "\n",
    "def get_rfm():\n",
    "    df = pd.read_csv(\"data/order.csv\")\n",
    "\n",
    "    clean(df)\n",
    "\n",
    "    df[\"消费日期\"] = pd.to_datetime(df[\"消费日期\"])\n",
    "    df[\"总价\"] = df[\"单价\"] * df[\"数量\"]\n",
    "\n",
    "    # draw_monthly_orders_plot(df)\n",
    "\n",
    "    df_user = get_df_user(df)\n",
    "    df_user = get_recency(df, df_user)\n",
    "    df_user = get_frequency(df, df_user)\n",
    "    return get_monetary(df, df_user)\n",
    "\n",
    "\n",
    "def draw_monthly_orders_plot(df):\n",
    "    df_orders_monthly = df.set_index(\"消费日期\")[\"订单号\"].resample(\"M\").nunique()  # 每个月的订单数量\n",
    "\n",
    "    ax = pd.DataFrame(df_orders_monthly.values).plot(\n",
    "        grid=True, figsize=(12, 6), legend=False\n",
    "    )\n",
    "    ax.set_xlabel(\"月份\")\n",
    "    ax.set_ylabel(\"订单数\")\n",
    "    ax.set_title(\"月度订单数\")\n",
    "    plt.xticks(\n",
    "        range(len(df_orders_monthly.index)),\n",
    "        [x.strftime(\"%Y.%m\") for x in df_orders_monthly.index],\n",
    "        rotation=45,\n",
    "    )\n",
    "    plt.show()\n",
    "\n",
    "\n",
    "def get_df_user(df):\n",
    "    df_user = pd.DataFrame(df[\"用户码\"].unique())\n",
    "    df_user.columns = [\"用户码\"]\n",
    "    return df_user.sort_values(by=\"用户码\", ascending=True).reset_index(drop=True)\n",
    "\n",
    "\n",
    "def get_recency(df, df_user):\n",
    "    df_recent_buy = df.groupby(\"用户码\").消费日期.max().reset_index()  # 构建消费日期信息\n",
    "    df_recent_buy.columns = [\"用户码\", \"最近日期\"]\n",
    "    df_recent_buy[\"R值\"] = (\n",
    "        df_recent_buy[\"最近日期\"].max() - df_recent_buy[\"最近日期\"]\n",
    "    ).dt.days  # 计算最新日期与上次消费日期的天数\n",
    "    return pd.merge(df_user, df_recent_buy[[\"用户码\", \"R值\"]], on=\"用户码\")\n",
    "\n",
    "\n",
    "def get_frequency(df, df_user):\n",
    "    df_frequency = (\n",
    "        df.groupby(\"用户码\").消费日期.count().reset_index()\n",
    "    )\n",
    "    df_frequency.columns = [\"用户码\", \"F值\"]  # 设定字段名称\n",
    "    return pd.merge(df_user, df_frequency, on=\"用户码\")\n",
    "\n",
    "\n",
    "def get_monetary(df, df_user):\n",
    "    df_revenue = df.groupby(\"用户码\").总价.sum().reset_index()  # 根据消费总额，构建df_revenue对象\n",
    "    df_revenue.columns = [\"用户码\", \"M值\"]  # 设定字段名称\n",
    "    return pd.merge(df_user, df_revenue, on=\"用户码\")  # 把消费金额整合至df_user结构\n",
    "\n",
    "\n",
    "\n",
    "df_user = get_rfm()"
   ]
  },
  {
   "cell_type": "code",
   "execution_count": 29,
   "id": "f33669ee",
   "metadata": {},
   "outputs": [
    {
     "data": {
      "text/plain": [
       "<AxesSubplot:title={'center':'新进度分布直方图'}, ylabel='Frequency'>"
      ]
     },
     "execution_count": 29,
     "metadata": {},
     "output_type": "execute_result"
    },
    {
     "data": {
      "image/png": "[encoded data removed]",
      "text/plain": [
       "<Figure size 432x288 with 1 Axes>"
      ]
     },
     "metadata": {
      "needs_background": "light"
     },
     "output_type": "display_data"
    }
   ],
   "source": [
    "df_user['R值'].sort_values().plot(kind='hist', bins=30, title='新进度分布直方图')  # R值直方图"
   ]
  },
  {
   "cell_type": "code",
   "execution_count": 26,
   "id": "5d3f0895",
   "metadata": {},
   "outputs": [
    {
     "data": {
      "text/plain": [
       "<AxesSubplot:title={'center':'消费频率分布直方图'}, ylabel='Frequency'>"
      ]
     },
     "execution_count": 26,
     "metadata": {},
     "output_type": "execute_result"
    },
    {
     "data": {
      "image/png": "[encoded data removed]",
      "text/plain": [
       "<Figure size 432x288 with 1 Axes>"
      ]
     },
     "metadata": {
      "needs_background": "light"
     },
     "output_type": "display_data"
    }
   ],
   "source": [
    "df_user.query('F值 < 800')['F值'].plot(kind='hist', bins=50, title = '消费频率分布直方图') #F值直方图"
   ]
  },
  {
   "cell_type": "code",
   "execution_count": 27,
   "id": "816bf036",
   "metadata": {},
   "outputs": [
    {
     "data": {
      "text/plain": [
       "<AxesSubplot:title={'center':'消费金额分布直方图'}, ylabel='Frequency'>"
      ]
     },
     "execution_count": 27,
     "metadata": {},
     "output_type": "execute_result"
    },
    {
     "data": {
      "image/png": "[encoded data removed]",
      "text/plain": [
       "<Figure size 432x288 with 1 Axes>"
      ]
     },
     "metadata": {
      "needs_background": "light"
     },
     "output_type": "display_data"
    }
   ],
   "source": [
    "df_user.query('M值 < 20000')['M值'].plot(kind='hist', bins=50, title = '消费金额分布直方图') #M值直方图"
   ]
  },
  {
   "cell_type": "markdown",
   "id": "1652f04d",
   "metadata": {},
   "source": [
    "### KMeans"
   ]
  },
  {
   "cell_type": "code",
   "execution_count": 31,
   "id": "c51740d2",
   "metadata": {},
   "outputs": [],
   "source": [
    "from sklearn.cluster import KMeans  # 导入KMeans模块\n",
    "\n",
    "def show_elbow(df):  # 定义手肘函数\n",
    "    distance_list = []  # 聚质心的距离（损失）\n",
    "    K = range(1, 9)  # K值范围\n",
    "    for k in K:\n",
    "        kmeans = KMeans(n_clusters=k, max_iter=100)  # 创建KMeans模型\n",
    "        kmeans = kmeans.fit(df)  # 拟合模型\n",
    "        distance_list.append(kmeans.inertia_)  # 创建每个K值的损失\n",
    "    plt.plot(K, distance_list, \"bx-\")  # 绘图\n",
    "    plt.xlabel(\"k\")  # X轴\n",
    "    plt.ylabel(\"距离均方误差\")  # Y轴\n",
    "    plt.title(\"k值手肘图\")  # 标题"
   ]
  },
  {
   "cell_type": "code",
   "execution_count": 33,
   "id": "25d08037",
   "metadata": {},
   "outputs": [
    {
     "data": {
      "image/png": "[encoded data removed]",
      "text/plain": [
       "<Figure size 432x288 with 1 Axes>"
      ]
     },
     "metadata": {
      "needs_background": "light"
     },
     "output_type": "display_data"
    }
   ],
   "source": [
    "show_elbow(df_user[[\"R值\"]])"
   ]
  },
  {
   "cell_type": "code",
   "execution_count": 34,
   "id": "2e1aee15",
   "metadata": {},
   "outputs": [
    {
     "data": {
      "image/png": "[encoded data removed]",
      "text/plain": [
       "<Figure size 432x288 with 1 Axes>"
      ]
     },
     "metadata": {
      "needs_background": "light"
     },
     "output_type": "display_data"
    }
   ],
   "source": [
    "show_elbow(df_user[[\"F值\"]])"
   ]
  },
  {
   "cell_type": "code",
   "execution_count": 38,
   "id": "c000e167",
   "metadata": {},
   "outputs": [
    {
     "data": {
      "image/png": "[encoded data removed]",
      "text/plain": [
       "<Figure size 432x288 with 1 Axes>"
      ]
     },
     "metadata": {
      "needs_background": "light"
     },
     "output_type": "display_data"
    }
   ],
   "source": [
    "show_elbow(df_user[[\"M值\"]])"
   ]
  },
  {
   "cell_type": "code",
   "execution_count": 40,
   "id": "cd02cf3b",
   "metadata": {},
   "outputs": [
    {
     "data": {
      "text/plain": [
       "KMeans(n_clusters=4)"
      ]
     },
     "execution_count": 40,
     "metadata": {},
     "output_type": "execute_result"
    }
   ],
   "source": [
    "kmeans_R = KMeans(n_clusters=3) #设定K=3\n",
    "kmeans_F = KMeans(n_clusters=4) #设定K=4\n",
    "kmeans_M = KMeans(n_clusters=4) #设定K=4\n",
    "\n",
    "\n",
    "kmeans_R.fit(df_user[['R值']]) #拟合模型\n",
    "kmeans_F.fit(df_user[['F值']]) #拟合模型\n",
    "kmeans_M.fit(df_user[['M值']]) #拟合模型"
   ]
  },
  {
   "cell_type": "code",
   "execution_count": 56,
   "id": "5f0f404c",
   "metadata": {},
   "outputs": [
    {
     "data": {
      "text/html": [
       "<div>\n",
       "<style scoped>\n",
       "    .dataframe tbody tr th:only-of-type {\n",
       "        vertical-align: middle;\n",
       "    }\n",
       "\n",
       "    .dataframe tbody tr th {\n",
       "        vertical-align: top;\n",
       "    }\n",
       "\n",
       "    .dataframe thead th {\n",
       "        text-align: right;\n",
       "    }\n",
       "</style>\n",
       "<table border=\"1\" class=\"dataframe\">\n",
       "  <thead>\n",
       "    <tr style=\"text-align: right;\">\n",
       "      <th></th>\n",
       "      <th>用户码</th>\n",
       "      <th>R值</th>\n",
       "      <th>F值</th>\n",
       "      <th>M值</th>\n",
       "      <th>R值层级</th>\n",
       "    </tr>\n",
       "  </thead>\n",
       "  <tbody>\n",
       "    <tr>\n",
       "      <th>0</th>\n",
       "      <td>14681</td>\n",
       "      <td>70</td>\n",
       "      <td>7</td>\n",
       "      <td>498.95</td>\n",
       "      <td>1</td>\n",
       "    </tr>\n",
       "    <tr>\n",
       "      <th>1</th>\n",
       "      <td>14682</td>\n",
       "      <td>187</td>\n",
       "      <td>2</td>\n",
       "      <td>52.00</td>\n",
       "      <td>2</td>\n",
       "    </tr>\n",
       "    <tr>\n",
       "      <th>2</th>\n",
       "      <td>14684</td>\n",
       "      <td>25</td>\n",
       "      <td>421</td>\n",
       "      <td>1236.28</td>\n",
       "      <td>1</td>\n",
       "    </tr>\n",
       "    <tr>\n",
       "      <th>3</th>\n",
       "      <td>14687</td>\n",
       "      <td>106</td>\n",
       "      <td>15</td>\n",
       "      <td>628.38</td>\n",
       "      <td>2</td>\n",
       "    </tr>\n",
       "    <tr>\n",
       "      <th>4</th>\n",
       "      <td>14688</td>\n",
       "      <td>7</td>\n",
       "      <td>359</td>\n",
       "      <td>5107.38</td>\n",
       "      <td>1</td>\n",
       "    </tr>\n",
       "    <tr>\n",
       "      <th>...</th>\n",
       "      <td>...</td>\n",
       "      <td>...</td>\n",
       "      <td>...</td>\n",
       "      <td>...</td>\n",
       "      <td>...</td>\n",
       "    </tr>\n",
       "    <tr>\n",
       "      <th>980</th>\n",
       "      <td>16015</td>\n",
       "      <td>3</td>\n",
       "      <td>184</td>\n",
       "      <td>690.54</td>\n",
       "      <td>1</td>\n",
       "    </tr>\n",
       "    <tr>\n",
       "      <th>981</th>\n",
       "      <td>16016</td>\n",
       "      <td>2</td>\n",
       "      <td>237</td>\n",
       "      <td>1483.31</td>\n",
       "      <td>1</td>\n",
       "    </tr>\n",
       "    <tr>\n",
       "      <th>982</th>\n",
       "      <td>16017</td>\n",
       "      <td>46</td>\n",
       "      <td>32</td>\n",
       "      <td>211.88</td>\n",
       "      <td>1</td>\n",
       "    </tr>\n",
       "    <tr>\n",
       "      <th>983</th>\n",
       "      <td>16018</td>\n",
       "      <td>38</td>\n",
       "      <td>28</td>\n",
       "      <td>408.90</td>\n",
       "      <td>1</td>\n",
       "    </tr>\n",
       "    <tr>\n",
       "      <th>984</th>\n",
       "      <td>16019</td>\n",
       "      <td>1</td>\n",
       "      <td>165</td>\n",
       "      <td>3450.24</td>\n",
       "      <td>1</td>\n",
       "    </tr>\n",
       "  </tbody>\n",
       "</table>\n",
       "<p>985 rows × 5 columns</p>\n",
       "</div>"
      ],
      "text/plain": [
       "       用户码   R值   F值       M值  R值层级\n",
       "0    14681   70    7   498.95     1\n",
       "1    14682  187    2    52.00     2\n",
       "2    14684   25  421  1236.28     1\n",
       "3    14687  106   15   628.38     2\n",
       "4    14688    7  359  5107.38     1\n",
       "..     ...  ...  ...      ...   ...\n",
       "980  16015    3  184   690.54     1\n",
       "981  16016    2  237  1483.31     1\n",
       "982  16017   46   32   211.88     1\n",
       "983  16018   38   28   408.90     1\n",
       "984  16019    1  165  3450.24     1\n",
       "\n",
       "[985 rows x 5 columns]"
      ]
     },
     "execution_count": 56,
     "metadata": {},
     "output_type": "execute_result"
    }
   ],
   "source": [
    "df_user[\"R值层级\"] = kmeans_R.predict(df_user[[\"R值\"]])\n",
    "\n",
    "df_user.groupby('R值层级')[\"R值\"].describe()\n",
    "df_user"
   ]
  },
  {
   "cell_type": "code",
   "execution_count": 69,
   "id": "7ca2eef3",
   "metadata": {},
   "outputs": [
    {
     "data": {
      "text/html": [
       "<div>\n",
       "<style scoped>\n",
       "    .dataframe tbody tr th:only-of-type {\n",
       "        vertical-align: middle;\n",
       "    }\n",
       "\n",
       "    .dataframe tbody tr th {\n",
       "        vertical-align: top;\n",
       "    }\n",
       "\n",
       "    .dataframe thead th {\n",
       "        text-align: right;\n",
       "    }\n",
       "</style>\n",
       "<table border=\"1\" class=\"dataframe\">\n",
       "  <thead>\n",
       "    <tr style=\"text-align: right;\">\n",
       "      <th></th>\n",
       "      <th>count</th>\n",
       "      <th>mean</th>\n",
       "      <th>std</th>\n",
       "      <th>min</th>\n",
       "      <th>25%</th>\n",
       "      <th>50%</th>\n",
       "      <th>75%</th>\n",
       "      <th>max</th>\n",
       "    </tr>\n",
       "    <tr>\n",
       "      <th>R值层级</th>\n",
       "      <th></th>\n",
       "      <th></th>\n",
       "      <th></th>\n",
       "      <th></th>\n",
       "      <th></th>\n",
       "      <th></th>\n",
       "      <th></th>\n",
       "      <th></th>\n",
       "    </tr>\n",
       "  </thead>\n",
       "  <tbody>\n",
       "    <tr>\n",
       "      <th>0</th>\n",
       "      <td>139.0</td>\n",
       "      <td>295.978417</td>\n",
       "      <td>44.624921</td>\n",
       "      <td>231.0</td>\n",
       "      <td>254.5</td>\n",
       "      <td>289.0</td>\n",
       "      <td>331.0</td>\n",
       "      <td>372.0</td>\n",
       "    </tr>\n",
       "    <tr>\n",
       "      <th>1</th>\n",
       "      <td>177.0</td>\n",
       "      <td>157.141243</td>\n",
       "      <td>36.992127</td>\n",
       "      <td>95.0</td>\n",
       "      <td>126.0</td>\n",
       "      <td>157.0</td>\n",
       "      <td>188.0</td>\n",
       "      <td>225.0</td>\n",
       "    </tr>\n",
       "    <tr>\n",
       "      <th>2</th>\n",
       "      <td>669.0</td>\n",
       "      <td>31.272048</td>\n",
       "      <td>25.155162</td>\n",
       "      <td>0.0</td>\n",
       "      <td>9.0</td>\n",
       "      <td>24.0</td>\n",
       "      <td>49.0</td>\n",
       "      <td>94.0</td>\n",
       "    </tr>\n",
       "  </tbody>\n",
       "</table>\n",
       "</div>"
      ],
      "text/plain": [
       "      count        mean        std    min    25%    50%    75%    max\n",
       "R值层级                                                                 \n",
       "0     139.0  295.978417  44.624921  231.0  254.5  289.0  331.0  372.0\n",
       "1     177.0  157.141243  36.992127   95.0  126.0  157.0  188.0  225.0\n",
       "2     669.0   31.272048  25.155162    0.0    9.0   24.0   49.0   94.0"
      ]
     },
     "execution_count": 69,
     "metadata": {},
     "output_type": "execute_result"
    }
   ],
   "source": [
    "#定义一个order_cluster函数为聚类排序\n",
    "def order_cluster(cluster_name, target_name,df,ascending=False):\n",
    "    new_cluster_name = 'new_' + cluster_name #新的聚类名称\n",
    "    df_new = df.groupby(cluster_name)[target_name].mean().reset_index() #按聚类结果分组，创建df_new对象\n",
    "    df_new = df_new.sort_values(by=target_name,ascending=ascending).reset_index(drop=True) #排序\n",
    "    df_new['index'] = df_new.index #创建索引字段\n",
    "    df_new = pd.merge(df,df_new[[cluster_name,'index']], on=cluster_name) #基于聚类名称把df_new还原为df对象，并添加索引字段\n",
    "    df_new = df_new.drop([cluster_name],axis=1) #删除聚类名称\n",
    "    df_new = df_new.rename(columns={\"index\":cluster_name}) #将索引字段重命名为聚类名称字段\n",
    "    return df_new #返回排序后的df_new对象\n",
    "\n",
    "df_user.head()\n",
    "df_user = order_cluster('R值层级', 'R值', df_user, False) #调用簇排序函数\n",
    "df_user = df_user.sort_values(by='用户码',ascending=True).reset_index(drop=True) #根据用户码排序\n",
    "df_user.head() #显示头几行数据\n",
    "\n",
    "df_user.groupby('R值层级')['R值'].describe() #R值层级分组统计信息"
   ]
  },
  {
   "cell_type": "markdown",
   "id": "ec8245eb",
   "metadata": {},
   "source": [
    "#### F值聚类"
   ]
  },
  {
   "cell_type": "code",
   "execution_count": 66,
   "id": "9633d3c6",
   "metadata": {},
   "outputs": [
    {
     "name": "stdout",
     "output_type": "stream",
     "text": [
      "F值层级\n",
      "0      33.223140\n",
      "1    1325.857143\n",
      "2     424.461538\n",
      "3     158.535000\n",
      "Name: F值, dtype: float64\n",
      "   F值层级           F值\n",
      "0     0    33.223140\n",
      "1     1  1325.857143\n",
      "2     2   424.461538\n",
      "3     3   158.535000\n",
      "   F值层级           F值\n",
      "0     0    33.223140\n",
      "1     3   158.535000\n",
      "2     2   424.461538\n",
      "3     1  1325.857143\n",
      "   F值层级           F值  index\n",
      "0     0    33.223140      0\n",
      "1     3   158.535000      1\n",
      "2     2   424.461538      2\n",
      "3     1  1325.857143      3\n"
     ]
    },
    {
     "data": {
      "text/html": [
       "<div>\n",
       "<style scoped>\n",
       "    .dataframe tbody tr th:only-of-type {\n",
       "        vertical-align: middle;\n",
       "    }\n",
       "\n",
       "    .dataframe tbody tr th {\n",
       "        vertical-align: top;\n",
       "    }\n",
       "\n",
       "    .dataframe thead th {\n",
       "        text-align: right;\n",
       "    }\n",
       "</style>\n",
       "<table border=\"1\" class=\"dataframe\">\n",
       "  <thead>\n",
       "    <tr style=\"text-align: right;\">\n",
       "      <th></th>\n",
       "      <th>count</th>\n",
       "      <th>mean</th>\n",
       "      <th>std</th>\n",
       "      <th>min</th>\n",
       "      <th>25%</th>\n",
       "      <th>50%</th>\n",
       "      <th>75%</th>\n",
       "      <th>max</th>\n",
       "    </tr>\n",
       "    <tr>\n",
       "      <th>F值层级</th>\n",
       "      <th></th>\n",
       "      <th></th>\n",
       "      <th></th>\n",
       "      <th></th>\n",
       "      <th></th>\n",
       "      <th></th>\n",
       "      <th></th>\n",
       "      <th></th>\n",
       "    </tr>\n",
       "  </thead>\n",
       "  <tbody>\n",
       "    <tr>\n",
       "      <th>0</th>\n",
       "      <td>726.0</td>\n",
       "      <td>33.223140</td>\n",
       "      <td>25.142678</td>\n",
       "      <td>1.0</td>\n",
       "      <td>12.00</td>\n",
       "      <td>27.0</td>\n",
       "      <td>50.75</td>\n",
       "      <td>95.0</td>\n",
       "    </tr>\n",
       "    <tr>\n",
       "      <th>1</th>\n",
       "      <td>200.0</td>\n",
       "      <td>158.535000</td>\n",
       "      <td>51.065716</td>\n",
       "      <td>96.0</td>\n",
       "      <td>117.00</td>\n",
       "      <td>143.0</td>\n",
       "      <td>194.50</td>\n",
       "      <td>286.0</td>\n",
       "    </tr>\n",
       "    <tr>\n",
       "      <th>2</th>\n",
       "      <td>52.0</td>\n",
       "      <td>424.461538</td>\n",
       "      <td>111.284208</td>\n",
       "      <td>295.0</td>\n",
       "      <td>338.25</td>\n",
       "      <td>396.0</td>\n",
       "      <td>502.25</td>\n",
       "      <td>720.0</td>\n",
       "    </tr>\n",
       "    <tr>\n",
       "      <th>3</th>\n",
       "      <td>7.0</td>\n",
       "      <td>1325.857143</td>\n",
       "      <td>549.089376</td>\n",
       "      <td>925.0</td>\n",
       "      <td>1016.00</td>\n",
       "      <td>1160.0</td>\n",
       "      <td>1336.50</td>\n",
       "      <td>2491.0</td>\n",
       "    </tr>\n",
       "  </tbody>\n",
       "</table>\n",
       "</div>"
      ],
      "text/plain": [
       "      count         mean         std    min      25%     50%      75%     max\n",
       "F值层级                                                                         \n",
       "0     726.0    33.223140   25.142678    1.0    12.00    27.0    50.75    95.0\n",
       "1     200.0   158.535000   51.065716   96.0   117.00   143.0   194.50   286.0\n",
       "2      52.0   424.461538  111.284208  295.0   338.25   396.0   502.25   720.0\n",
       "3       7.0  1325.857143  549.089376  925.0  1016.00  1160.0  1336.50  2491.0"
      ]
     },
     "execution_count": 66,
     "metadata": {},
     "output_type": "execute_result"
    }
   ],
   "source": [
    "df_user['F值层级'] = kmeans_F.predict(df_user[['F值']]) #通过聚类模型求出F值的层级\n",
    "df_user = order_cluster('F值层级', 'F值',df_user,True) #调用簇排序函数\n",
    "df_user.groupby('F值层级')['F值'].describe() #F值层级分组统计信息"
   ]
  },
  {
   "cell_type": "markdown",
   "id": "3f75aaad",
   "metadata": {},
   "source": [
    "#### M值聚类"
   ]
  },
  {
   "cell_type": "code",
   "execution_count": 68,
   "id": "c558efce",
   "metadata": {},
   "outputs": [
    {
     "name": "stdout",
     "output_type": "stream",
     "text": [
      "M值层级\n",
      "0      684.455245\n",
      "1    46437.762000\n",
      "2    13467.804444\n",
      "3     4139.803140\n",
      "Name: M值, dtype: float64\n",
      "   M值层级            M值\n",
      "0     0    684.455245\n",
      "1     1  46437.762000\n",
      "2     2  13467.804444\n",
      "3     3   4139.803140\n",
      "   M值层级            M值\n",
      "0     0    684.455245\n",
      "1     3   4139.803140\n",
      "2     2  13467.804444\n",
      "3     1  46437.762000\n",
      "   M值层级            M值  index\n",
      "0     0    684.455245      0\n",
      "1     3   4139.803140      1\n",
      "2     2  13467.804444      2\n",
      "3     1  46437.762000      3\n"
     ]
    },
    {
     "data": {
      "text/html": [
       "<div>\n",
       "<style scoped>\n",
       "    .dataframe tbody tr th:only-of-type {\n",
       "        vertical-align: middle;\n",
       "    }\n",
       "\n",
       "    .dataframe tbody tr th {\n",
       "        vertical-align: top;\n",
       "    }\n",
       "\n",
       "    .dataframe thead th {\n",
       "        text-align: right;\n",
       "    }\n",
       "</style>\n",
       "<table border=\"1\" class=\"dataframe\">\n",
       "  <thead>\n",
       "    <tr style=\"text-align: right;\">\n",
       "      <th></th>\n",
       "      <th>用户码</th>\n",
       "      <th>R值</th>\n",
       "      <th>F值</th>\n",
       "      <th>M值</th>\n",
       "      <th>R值层级</th>\n",
       "      <th>F值层级</th>\n",
       "      <th>M值层级</th>\n",
       "    </tr>\n",
       "  </thead>\n",
       "  <tbody>\n",
       "    <tr>\n",
       "      <th>0</th>\n",
       "      <td>14681</td>\n",
       "      <td>70</td>\n",
       "      <td>7</td>\n",
       "      <td>498.95</td>\n",
       "      <td>2</td>\n",
       "      <td>0</td>\n",
       "      <td>0</td>\n",
       "    </tr>\n",
       "    <tr>\n",
       "      <th>1</th>\n",
       "      <td>14682</td>\n",
       "      <td>187</td>\n",
       "      <td>2</td>\n",
       "      <td>52.00</td>\n",
       "      <td>1</td>\n",
       "      <td>0</td>\n",
       "      <td>0</td>\n",
       "    </tr>\n",
       "    <tr>\n",
       "      <th>2</th>\n",
       "      <td>14684</td>\n",
       "      <td>25</td>\n",
       "      <td>421</td>\n",
       "      <td>1236.28</td>\n",
       "      <td>2</td>\n",
       "      <td>2</td>\n",
       "      <td>0</td>\n",
       "    </tr>\n",
       "    <tr>\n",
       "      <th>3</th>\n",
       "      <td>14687</td>\n",
       "      <td>106</td>\n",
       "      <td>15</td>\n",
       "      <td>628.38</td>\n",
       "      <td>1</td>\n",
       "      <td>0</td>\n",
       "      <td>0</td>\n",
       "    </tr>\n",
       "    <tr>\n",
       "      <th>4</th>\n",
       "      <td>14688</td>\n",
       "      <td>7</td>\n",
       "      <td>359</td>\n",
       "      <td>5107.38</td>\n",
       "      <td>2</td>\n",
       "      <td>2</td>\n",
       "      <td>1</td>\n",
       "    </tr>\n",
       "  </tbody>\n",
       "</table>\n",
       "</div>"
      ],
      "text/plain": [
       "     用户码   R值   F值       M值  R值层级  F值层级  M值层级\n",
       "0  14681   70    7   498.95     2     0     0\n",
       "1  14682  187    2    52.00     1     0     0\n",
       "2  14684   25  421  1236.28     2     2     0\n",
       "3  14687  106   15   628.38     1     0     0\n",
       "4  14688    7  359  5107.38     2     2     1"
      ]
     },
     "execution_count": 68,
     "metadata": {},
     "output_type": "execute_result"
    }
   ],
   "source": [
    "df_user['M值层级'] = kmeans_M.predict(df_user[['M值']]) #通过聚类模型求出M值的层级\n",
    "df_user = order_cluster('M值层级', 'M值',df_user,True) #调用簇排序函数\n",
    "df_user.groupby('M值层级')['M值'].describe() #M值层级分组统计信息\n",
    "df_user = df_user.sort_values(by='用户码',ascending=True).reset_index(drop=True) #根据用户码排序\n",
    "df_user.head() #显示头几行数据"
   ]
  },
  {
   "cell_type": "code",
   "execution_count": 71,
   "id": "1dfd1e42",
   "metadata": {},
   "outputs": [],
   "source": [
    "df_user['总分'] = df_user['R值层级'] + df_user['F值层级'] + df_user['M值层级'] #求出每个用户RFM总分"
   ]
  },
  {
   "cell_type": "markdown",
   "id": "055c1c2a",
   "metadata": {},
   "source": [
    "#### 用户总体价值"
   ]
  },
  {
   "cell_type": "code",
   "execution_count": 72,
   "id": "c6c24ea2",
   "metadata": {},
   "outputs": [
    {
     "data": {
      "text/html": [
       "<div>\n",
       "<style scoped>\n",
       "    .dataframe tbody tr th:only-of-type {\n",
       "        vertical-align: middle;\n",
       "    }\n",
       "\n",
       "    .dataframe tbody tr th {\n",
       "        vertical-align: top;\n",
       "    }\n",
       "\n",
       "    .dataframe thead th {\n",
       "        text-align: right;\n",
       "    }\n",
       "</style>\n",
       "<table border=\"1\" class=\"dataframe\">\n",
       "  <thead>\n",
       "    <tr style=\"text-align: right;\">\n",
       "      <th></th>\n",
       "      <th>用户码</th>\n",
       "      <th>R值</th>\n",
       "      <th>F值</th>\n",
       "      <th>M值</th>\n",
       "      <th>F值层级</th>\n",
       "      <th>M值层级</th>\n",
       "      <th>R值层级</th>\n",
       "      <th>总分</th>\n",
       "      <th>总体价值</th>\n",
       "    </tr>\n",
       "  </thead>\n",
       "  <tbody>\n",
       "    <tr>\n",
       "      <th>0</th>\n",
       "      <td>14681</td>\n",
       "      <td>70</td>\n",
       "      <td>7</td>\n",
       "      <td>498.95</td>\n",
       "      <td>0</td>\n",
       "      <td>0</td>\n",
       "      <td>2</td>\n",
       "      <td>2</td>\n",
       "      <td>低价值</td>\n",
       "    </tr>\n",
       "    <tr>\n",
       "      <th>1</th>\n",
       "      <td>14682</td>\n",
       "      <td>187</td>\n",
       "      <td>2</td>\n",
       "      <td>52.00</td>\n",
       "      <td>0</td>\n",
       "      <td>0</td>\n",
       "      <td>1</td>\n",
       "      <td>1</td>\n",
       "      <td>低价值</td>\n",
       "    </tr>\n",
       "    <tr>\n",
       "      <th>2</th>\n",
       "      <td>14684</td>\n",
       "      <td>25</td>\n",
       "      <td>421</td>\n",
       "      <td>1236.28</td>\n",
       "      <td>2</td>\n",
       "      <td>0</td>\n",
       "      <td>2</td>\n",
       "      <td>4</td>\n",
       "      <td>中价值</td>\n",
       "    </tr>\n",
       "    <tr>\n",
       "      <th>3</th>\n",
       "      <td>14687</td>\n",
       "      <td>106</td>\n",
       "      <td>15</td>\n",
       "      <td>628.38</td>\n",
       "      <td>0</td>\n",
       "      <td>0</td>\n",
       "      <td>1</td>\n",
       "      <td>1</td>\n",
       "      <td>低价值</td>\n",
       "    </tr>\n",
       "    <tr>\n",
       "      <th>4</th>\n",
       "      <td>14688</td>\n",
       "      <td>7</td>\n",
       "      <td>359</td>\n",
       "      <td>5107.38</td>\n",
       "      <td>2</td>\n",
       "      <td>1</td>\n",
       "      <td>2</td>\n",
       "      <td>5</td>\n",
       "      <td>高价值</td>\n",
       "    </tr>\n",
       "    <tr>\n",
       "      <th>...</th>\n",
       "      <td>...</td>\n",
       "      <td>...</td>\n",
       "      <td>...</td>\n",
       "      <td>...</td>\n",
       "      <td>...</td>\n",
       "      <td>...</td>\n",
       "      <td>...</td>\n",
       "      <td>...</td>\n",
       "      <td>...</td>\n",
       "    </tr>\n",
       "    <tr>\n",
       "      <th>980</th>\n",
       "      <td>16015</td>\n",
       "      <td>3</td>\n",
       "      <td>184</td>\n",
       "      <td>690.54</td>\n",
       "      <td>1</td>\n",
       "      <td>0</td>\n",
       "      <td>2</td>\n",
       "      <td>3</td>\n",
       "      <td>中价值</td>\n",
       "    </tr>\n",
       "    <tr>\n",
       "      <th>981</th>\n",
       "      <td>16016</td>\n",
       "      <td>2</td>\n",
       "      <td>237</td>\n",
       "      <td>1483.31</td>\n",
       "      <td>1</td>\n",
       "      <td>0</td>\n",
       "      <td>2</td>\n",
       "      <td>3</td>\n",
       "      <td>中价值</td>\n",
       "    </tr>\n",
       "    <tr>\n",
       "      <th>982</th>\n",
       "      <td>16017</td>\n",
       "      <td>46</td>\n",
       "      <td>32</td>\n",
       "      <td>211.88</td>\n",
       "      <td>0</td>\n",
       "      <td>0</td>\n",
       "      <td>2</td>\n",
       "      <td>2</td>\n",
       "      <td>低价值</td>\n",
       "    </tr>\n",
       "    <tr>\n",
       "      <th>983</th>\n",
       "      <td>16018</td>\n",
       "      <td>38</td>\n",
       "      <td>28</td>\n",
       "      <td>408.90</td>\n",
       "      <td>0</td>\n",
       "      <td>0</td>\n",
       "      <td>2</td>\n",
       "      <td>2</td>\n",
       "      <td>低价值</td>\n",
       "    </tr>\n",
       "    <tr>\n",
       "      <th>984</th>\n",
       "      <td>16019</td>\n",
       "      <td>1</td>\n",
       "      <td>165</td>\n",
       "      <td>3450.24</td>\n",
       "      <td>1</td>\n",
       "      <td>1</td>\n",
       "      <td>2</td>\n",
       "      <td>4</td>\n",
       "      <td>中价值</td>\n",
       "    </tr>\n",
       "  </tbody>\n",
       "</table>\n",
       "<p>985 rows × 9 columns</p>\n",
       "</div>"
      ],
      "text/plain": [
       "       用户码   R值   F值       M值  F值层级  M值层级  R值层级  总分 总体价值\n",
       "0    14681   70    7   498.95     0     0     2   2  低价值\n",
       "1    14682  187    2    52.00     0     0     1   1  低价值\n",
       "2    14684   25  421  1236.28     2     0     2   4  中价值\n",
       "3    14687  106   15   628.38     0     0     1   1  低价值\n",
       "4    14688    7  359  5107.38     2     1     2   5  高价值\n",
       "..     ...  ...  ...      ...   ...   ...   ...  ..  ...\n",
       "980  16015    3  184   690.54     1     0     2   3  中价值\n",
       "981  16016    2  237  1483.31     1     0     2   3  中价值\n",
       "982  16017   46   32   211.88     0     0     2   2  低价值\n",
       "983  16018   38   28   408.90     0     0     2   2  低价值\n",
       "984  16019    1  165  3450.24     1     1     2   4  中价值\n",
       "\n",
       "[985 rows x 9 columns]"
      ]
     },
     "execution_count": 72,
     "metadata": {},
     "output_type": "execute_result"
    }
   ],
   "source": [
    "#在df_user对象中添加总体价值这个字段\n",
    "df_user.loc[(df_user['总分']<=2) & (df_user['总分']>=0), '总体价值'] = '低价值' \n",
    "df_user.loc[(df_user['总分']<=4) & (df_user['总分']>=3), '总体价值'] = '中价值' \n",
    "df_user.loc[(df_user['总分']<=8) & (df_user['总分']>=5), '总体价值'] = '高价值'\n",
    "df_user #显示df_user"
   ]
  },
  {
   "cell_type": "code",
   "execution_count": 76,
   "id": "ad3d9870",
   "metadata": {},
   "outputs": [
    {
     "data": {
      "text/plain": [
       "<matplotlib.collections.PathCollection at 0x1484129e8>"
      ]
     },
     "execution_count": 76,
     "metadata": {},
     "output_type": "execute_result"
    },
    {
     "data": {
      "image/png": "[encoded data removed]",
      "text/plain": [
       "<Figure size 432x288 with 1 Axes>"
      ]
     },
     "metadata": {
      "needs_background": "light"
     },
     "output_type": "display_data"
    }
   ],
   "source": [
    "#显示高、中、低价值组分布散点图（F值与M值）\n",
    "plt.scatter(df_user.query(\"总体价值 == '高价值'\")['F值'],\n",
    "                   df_user.query(\"总体价值 == '高价值'\")['M值'],c='g',marker='*')\n",
    "plt.scatter(df_user.query(\"总体价值 == '中价值'\")['F值'],\n",
    "                   df_user.query(\"总体价值 == '中价值'\")['M值'],marker=8)\n",
    "plt.scatter(df_user.query(\"总体价值 == '低价值'\")['F值'],\n",
    "                   df_user.query(\"总体价值 == '低价值'\")['M值'],c='r')\n",
    "\n"
   ]
  },
  {
   "cell_type": "markdown",
   "id": "ad7d455b",
   "metadata": {},
   "source": [
    "#### 三维图"
   ]
  },
  {
   "cell_type": "code",
   "execution_count": 77,
   "id": "cc4bf99b",
   "metadata": {},
   "outputs": [
    {
     "data": {
      "image/png": "[encoded data removed]",
      "text/plain": [
       "<Figure size 432x288 with 1 Axes>"
      ]
     },
     "metadata": {
      "needs_background": "light"
     },
     "output_type": "display_data"
    }
   ],
   "source": [
    "df_user['三维价值'] = KMeans(n_clusters=3).fit(df_user[['R值', 'F值', 'M值']]).predict(df_user[['R值', 'F值', 'M值']])\n",
    "\n",
    "ax = plt.subplot(111, projection='3d')\n",
    "ax.scatter(df_user.query(\"三维价值 == 0\")['F值'],\n",
    "           df_user.query(\"三维价值 == 0\")['R值'],\n",
    "           df_user.query(\"三维价值 == 0\")['M值'], c='y')\n",
    "ax.scatter(df_user.query(\"三维价值 == 1\")['F值'],\n",
    "           df_user.query(\"三维价值 == 1\")['R值'],\n",
    "           df_user.query(\"三维价值 == 1\")['M值'], c='r')\n",
    "ax.scatter(df_user.query(\"三维价值 == 2\")['F值'],\n",
    "           df_user.query(\"三维价值 == 2\")['R值'],\n",
    "           df_user.query(\"三维价值 == 2\")['M值'], c='g')\n",
    "\n",
    "ax.set_zlabel('F')  # 坐标轴\n",
    "ax.set_ylabel('R')\n",
    "ax.set_xlabel('M')\n",
    "plt.show()"
   ]
  },
  {
   "cell_type": "code",
   "execution_count": null,
   "id": "efaf07dc",
   "metadata": {},
   "outputs": [],
   "source": []
  }
 ],
 "metadata": {
  "kernelspec": {
   "display_name": "Python 3 (ipykernel)",
   "language": "python",
   "name": "python3"
  },
  "language_info": {
   "codemirror_mode": {
    "name": "ipython",
    "version": 3
   },
   "file_extension": ".py",
   "mimetype": "text/x-python",
   "name": "python",
   "nbconvert_exporter": "python",
   "pygments_lexer": "ipython3",
   "version": "3.7.3"
  }
 },
 "nbformat": 4,
 "nbformat_minor": 5
}
